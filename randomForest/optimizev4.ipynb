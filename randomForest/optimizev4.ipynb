{
 "cells": [
  {
   "cell_type": "code",
   "execution_count": 1,
   "metadata": {},
   "outputs": [],
   "source": [
    "from sklearn.preprocessing import LabelEncoder\n",
    "from sklearn.ensemble import RandomForestClassifier\n",
    "from sklearn.model_selection import GridSearchCV\n",
    "from sklearn.metrics import accuracy_score\n",
    "import pandas as pd"
   ]
  },
  {
   "cell_type": "code",
   "execution_count": 2,
   "metadata": {},
   "outputs": [],
   "source": [
    "train_df = pd.read_csv('./gdz-elektrik-datathon-2024/train.csv')\n",
    "test_df = pd.read_csv('./gdz-elektrik-datathon-2024/test.csv')"
   ]
  },
  {
   "cell_type": "code",
   "execution_count": 3,
   "metadata": {},
   "outputs": [],
   "source": [
    "label_encoder = LabelEncoder()\n",
    "X_train = train_df.drop(['tarih', 'bildirimsiz_sum', 'bildirimli_sum'], axis=1)\n",
    "X_train['ilce'] = label_encoder.fit_transform(X_train['ilce'])\n",
    "y_train = train_df['tarih']\n",
    "\n",
    "X_test = test_df.drop(['tarih', 'bildirimli_sum'], axis=1)\n",
    "X_test['ilce'] = label_encoder.transform(X_test['ilce'])\n",
    "y_test = test_df['tarih']"
   ]
  },
  {
   "cell_type": "code",
   "execution_count": 4,
   "metadata": {},
   "outputs": [
    {
     "name": "stdout",
     "output_type": "stream",
     "text": [
      "En iyi hiperparametreler: {'max_depth': 1, 'min_samples_leaf': 3, 'min_samples_split': 3, 'n_estimators': 150}\n",
      "En iyi doğruluk skoru: 0.0007684578657389568\n",
      "Test verileri üzerinde doğruluk skoru: 0.0\n"
     ]
    }
   ],
   "source": [
    "model = RandomForestClassifier()\n",
    "\n",
    "param_grid = {\n",
    "    'n_estimators': [150, 165, 180],\n",
    "    'max_depth': [None, 1, 2, 3],\n",
    "    'min_samples_split': [3, 4, 5],\n",
    "    'min_samples_leaf': [2, 3, 4]\n",
    "}\n",
    "grid_search = GridSearchCV(estimator=model, param_grid=param_grid, cv=5)\n",
    "\n",
    "grid_search.fit(X_train, y_train)\n",
    "\n",
    "print(\"En iyi hiperparametreler:\", grid_search.best_params_)\n",
    "print(\"En iyi doğruluk skoru:\", grid_search.best_score_)\n",
    "\n",
    "best_model = grid_search.best_estimator_\n",
    "y_pred = best_model.predict(X_test)\n",
    "\n",
    "accuracy = accuracy_score(y_test, y_pred)\n",
    "print(\"Test verileri üzerinde doğruluk skoru:\", accuracy)"
   ]
  }
 ],
 "metadata": {
  "kernelspec": {
   "display_name": "Python 3",
   "language": "python",
   "name": "python3"
  },
  "language_info": {
   "codemirror_mode": {
    "name": "ipython",
    "version": 3
   },
   "file_extension": ".py",
   "mimetype": "text/x-python",
   "name": "python",
   "nbconvert_exporter": "python",
   "pygments_lexer": "ipython3",
   "version": "3.11.4"
  }
 },
 "nbformat": 4,
 "nbformat_minor": 2
}
