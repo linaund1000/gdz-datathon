{
 "cells": [
  {
   "cell_type": "code",
   "execution_count": 180,
   "metadata": {},
   "outputs": [],
   "source": [
    "import pandas as pd\n",
    "from sklearn.model_selection import train_test_split\n",
    "from sklearn.preprocessing import StandardScaler\n",
    "from catboost import CatBoostRegressor\n",
    "import xgboost as xgb\n",
    "from sklearn.model_selection import GridSearchCV\n",
    "from sklearn.metrics import mean_squared_error\n",
    "\n",
    "\n"
   ]
  },
  {
   "cell_type": "code",
   "execution_count": 181,
   "metadata": {},
   "outputs": [],
   "source": [
    "class MLModel:\n",
    "    def __init__(self, model_type='catboost'):\n",
    "        self.model_type = model_type\n",
    "        self.scaler = StandardScaler\n",
    "\n",
    "    def preprocess_data(self, train_df, weather_df, holidays_df=None):\n",
    "    #######burasi cok sikinti cok######\n",
    "        train_df = pd.merge(train_df,weather_df,['date','ilce'])\n",
    "    \n",
    "        # Fill missing values in the resulting DataFrame using the ffill method\n",
    "    \n",
    "        return train_df\n",
    "\n",
    "    def aggregate_weather_data(self, daily_weather):\n",
    "        \n",
    "        daily_weather['date'] = pd.to_datetime(daily_weather['date'])\n",
    "        daily_weather['day'] = daily_weather['date'].dt.date\n",
    "        daily_weather['hour'] = daily_weather['date'].dt.hour\n",
    "\n",
    "\n",
    "        daily_weather = daily_weather.groupby(['ilce', pd.Grouper(freq='D', key='date')])\n",
    "        ## Apply the aggregations\n",
    "        daily_weather= daily_weather.agg({\n",
    "            't_2m:C': ['max', 'min', 'mean','std'],  # temperature\n",
    "            'prob_precip_1h:p': ['sum', 'max' ,'mean'],  # precipitation\n",
    "            'wind_speed_10m:ms': ['max', 'mean','std'],  # wind speed\n",
    "            'wind_dir_10m:d': 'mean',  # wind direction\n",
    "            'global_rad:W': 'sum',  # sunshine duration\n",
    "            'effective_cloud_cover:p': ['mean','std'],  # cloud cover\n",
    "            'relative_humidity_2m:p': ['max', 'min', 'mean']  # humidity\n",
    "        })\n",
    "\n",
    "        # Flatten the MultiIndex columns\n",
    "        daily_weather.columns = ['_'.join(col).strip() for col in daily_weather.columns.values]\n",
    "        daily_weather= daily_weather.reset_index() \n",
    "        return daily_weather\n",
    "\n",
    "    def split_data(self, train_df):\n",
    "        features = [col for col in train_df.columns if col not in ['tarih', 'ilce', 'bildirimsiz_sum', 'bildirimli_sum']]\n",
    "        X = train_df[features]\n",
    "        y = train_df[\"bildirimsiz_sum\"]\n",
    "        X_train, X_test, y_train, y_test = train_test_split(X, y, test_size=0.2, random_state=42)\n",
    "        X_train = self.scaler.fit_transform(X_train)\n",
    "        X_test = self.scaler.transform(X_test)\n",
    "        return X_train, X_test, y_train, y_test\n",
    "\n",
    "    def train_model(self, X_train, X_test, y_train, y_test):\n",
    "        model = CatBoostRegressor()\n",
    "        params = {'learning_rate': [0.01, 0.1, 1], 'depth': [3, 5, 7], 'l2_leaf_reg': [0.1, 1, 10]}\n",
    "        grid = GridSearchCV(model, params, cv=5, scoring='neg_mean_squared_error')\n",
    "        grid.fit(X_train, y_train)\n",
    "        model = CatBoostRegressor(**grid.best_params_)\n",
    "        model.fit(X_train, y_train)\n",
    "        preds = model.predict(X_test)\n",
    "        return preds"
   ]
  },
  {
   "cell_type": "code",
   "execution_count": 182,
   "metadata": {},
   "outputs": [],
   "source": [
    "\n",
    "# Load the datasets\n",
    "train = pd.read_csv(\"train.csv\")\n",
    "weather = pd.read_csv(\"weather.csv\")\n",
    "holidays = pd.read_csv(\"holidays.csv\")\n",
    "test = pd.read_csv(\"test.csv\")\n",
    "sample_submission = pd.read_csv(\"sample_submission.csv\")"
   ]
  },
  {
   "cell_type": "code",
   "execution_count": 183,
   "metadata": {},
   "outputs": [
    {
     "name": "stdout",
     "output_type": "stream",
     "text": [
      "<class 'pandas.core.frame.DataFrame'>\n",
      "RangeIndex: 55 entries, 0 to 54\n",
      "Data columns (total 2 columns):\n",
      " #   Column        Non-Null Count  Dtype         \n",
      "---  ------        --------------  -----         \n",
      " 0   holiday_name  55 non-null     object        \n",
      " 1   date          55 non-null     datetime64[ns]\n",
      "dtypes: datetime64[ns](1), object(1)\n",
      "memory usage: 1012.0+ bytes\n"
     ]
    }
   ],
   "source": [
    "# Rename columns in holidays_df and convert date format\n",
    "holidays.columns = ['year', 'month', 'day', 'holiday_name']\n",
    "holidays['date'] = pd.to_datetime(holidays[['year', 'month', 'day']])\n",
    "holidays.drop(['year', 'month', 'day'], axis=1, inplace=True)\n",
    "holidays.info()"
   ]
  },
  {
   "cell_type": "code",
   "execution_count": 184,
   "metadata": {},
   "outputs": [],
   "source": [
    "# Instantiate the model class\n",
    "model = MLModel(model_type='catboost')"
   ]
  },
  {
   "cell_type": "code",
   "execution_count": 185,
   "metadata": {},
   "outputs": [
    {
     "data": {
      "text/html": [
       "<div>\n",
       "<style scoped>\n",
       "    .dataframe tbody tr th:only-of-type {\n",
       "        vertical-align: middle;\n",
       "    }\n",
       "\n",
       "    .dataframe tbody tr th {\n",
       "        vertical-align: top;\n",
       "    }\n",
       "\n",
       "    .dataframe thead th {\n",
       "        text-align: right;\n",
       "    }\n",
       "</style>\n",
       "<table border=\"1\" class=\"dataframe\">\n",
       "  <thead>\n",
       "    <tr style=\"text-align: right;\">\n",
       "      <th></th>\n",
       "      <th>tarih</th>\n",
       "      <th>ilce</th>\n",
       "      <th>bildirimsiz_sum</th>\n",
       "      <th>bildirimli_sum</th>\n",
       "    </tr>\n",
       "  </thead>\n",
       "  <tbody>\n",
       "    <tr>\n",
       "      <th>0</th>\n",
       "      <td>2021-01-01</td>\n",
       "      <td>izmir-aliaga</td>\n",
       "      <td>5</td>\n",
       "      <td>0</td>\n",
       "    </tr>\n",
       "    <tr>\n",
       "      <th>1</th>\n",
       "      <td>2021-01-02</td>\n",
       "      <td>izmir-aliaga</td>\n",
       "      <td>13</td>\n",
       "      <td>0</td>\n",
       "    </tr>\n",
       "    <tr>\n",
       "      <th>2</th>\n",
       "      <td>2021-01-03</td>\n",
       "      <td>izmir-aliaga</td>\n",
       "      <td>4</td>\n",
       "      <td>0</td>\n",
       "    </tr>\n",
       "    <tr>\n",
       "      <th>3</th>\n",
       "      <td>2021-01-04</td>\n",
       "      <td>izmir-aliaga</td>\n",
       "      <td>9</td>\n",
       "      <td>0</td>\n",
       "    </tr>\n",
       "    <tr>\n",
       "      <th>4</th>\n",
       "      <td>2021-01-05</td>\n",
       "      <td>izmir-aliaga</td>\n",
       "      <td>2</td>\n",
       "      <td>0</td>\n",
       "    </tr>\n",
       "  </tbody>\n",
       "</table>\n",
       "</div>"
      ],
      "text/plain": [
       "        tarih          ilce  bildirimsiz_sum  bildirimli_sum\n",
       "0  2021-01-01  izmir-aliaga                5               0\n",
       "1  2021-01-02  izmir-aliaga               13               0\n",
       "2  2021-01-03  izmir-aliaga                4               0\n",
       "3  2021-01-04  izmir-aliaga                9               0\n",
       "4  2021-01-05  izmir-aliaga                2               0"
      ]
     },
     "execution_count": 185,
     "metadata": {},
     "output_type": "execute_result"
    }
   ],
   "source": [
    "train.head()\n",
    " #Process data and train model"
   ]
  },
  {
   "cell_type": "code",
   "execution_count": 186,
   "metadata": {},
   "outputs": [],
   "source": [
    "# Rename columns in weather_df to English\n",
    "weather.columns = ['date', 'lat', 'lon', 't_2m:C', 'effective_cloud_cover:p', 'global_rad:W', 'relative_humidity_2m:p', 'wind_dir_10m:d', 'wind_speed_10m:ms', 'prob_precip_1h:p', 't_apparent:C', 'ilce']\n",
    "#location_data = weather[['lat', 'lon', 'ilce']]\n",
    "#weather.drop(['lat', 'lon'], axis=1, inplace=True)\n",
    "#weather.loc[:, 'ilce'] = weather['ilce'].apply(lambda x: x.lower())\n",
    "#weather.head()"
   ]
  },
  {
   "cell_type": "code",
   "execution_count": 187,
   "metadata": {},
   "outputs": [
    {
     "data": {
      "text/html": [
       "<div>\n",
       "<style scoped>\n",
       "    .dataframe tbody tr th:only-of-type {\n",
       "        vertical-align: middle;\n",
       "    }\n",
       "\n",
       "    .dataframe tbody tr th {\n",
       "        vertical-align: top;\n",
       "    }\n",
       "\n",
       "    .dataframe thead th {\n",
       "        text-align: right;\n",
       "    }\n",
       "</style>\n",
       "<table border=\"1\" class=\"dataframe\">\n",
       "  <thead>\n",
       "    <tr style=\"text-align: right;\">\n",
       "      <th></th>\n",
       "      <th>holiday_name</th>\n",
       "      <th>date</th>\n",
       "    </tr>\n",
       "  </thead>\n",
       "  <tbody>\n",
       "    <tr>\n",
       "      <th>0</th>\n",
       "      <td>New Year's Day</td>\n",
       "      <td>2021-01-01</td>\n",
       "    </tr>\n",
       "    <tr>\n",
       "      <th>1</th>\n",
       "      <td>National Sovereignty and Children's Day</td>\n",
       "      <td>2021-04-23</td>\n",
       "    </tr>\n",
       "    <tr>\n",
       "      <th>2</th>\n",
       "      <td>Labour Day</td>\n",
       "      <td>2021-05-01</td>\n",
       "    </tr>\n",
       "    <tr>\n",
       "      <th>3</th>\n",
       "      <td>Commemoration of Ataturk, Youth and Sports Day</td>\n",
       "      <td>2021-05-19</td>\n",
       "    </tr>\n",
       "    <tr>\n",
       "      <th>4</th>\n",
       "      <td>Democracy and National Unity Day</td>\n",
       "      <td>2021-07-15</td>\n",
       "    </tr>\n",
       "  </tbody>\n",
       "</table>\n",
       "</div>"
      ],
      "text/plain": [
       "                                     holiday_name       date\n",
       "0                                  New Year's Day 2021-01-01\n",
       "1         National Sovereignty and Children's Day 2021-04-23\n",
       "2                                      Labour Day 2021-05-01\n",
       "3  Commemoration of Ataturk, Youth and Sports Day 2021-05-19\n",
       "4                Democracy and National Unity Day 2021-07-15"
      ]
     },
     "execution_count": 187,
     "metadata": {},
     "output_type": "execute_result"
    }
   ],
   "source": [
    "holidays.head()\n"
   ]
  },
  {
   "cell_type": "code",
   "execution_count": 188,
   "metadata": {},
   "outputs": [
    {
     "data": {
      "text/html": [
       "<div>\n",
       "<style scoped>\n",
       "    .dataframe tbody tr th:only-of-type {\n",
       "        vertical-align: middle;\n",
       "    }\n",
       "\n",
       "    .dataframe tbody tr th {\n",
       "        vertical-align: top;\n",
       "    }\n",
       "\n",
       "    .dataframe thead th {\n",
       "        text-align: right;\n",
       "    }\n",
       "</style>\n",
       "<table border=\"1\" class=\"dataframe\">\n",
       "  <thead>\n",
       "    <tr style=\"text-align: right;\">\n",
       "      <th></th>\n",
       "      <th>date</th>\n",
       "      <th>ilce</th>\n",
       "      <th>bildirimli_sum</th>\n",
       "    </tr>\n",
       "  </thead>\n",
       "  <tbody>\n",
       "    <tr>\n",
       "      <th>0</th>\n",
       "      <td>2024-02-01</td>\n",
       "      <td>izmir-aliaga</td>\n",
       "      <td>0</td>\n",
       "    </tr>\n",
       "    <tr>\n",
       "      <th>1</th>\n",
       "      <td>2024-02-01</td>\n",
       "      <td>izmir-bayindir</td>\n",
       "      <td>1</td>\n",
       "    </tr>\n",
       "    <tr>\n",
       "      <th>2</th>\n",
       "      <td>2024-02-01</td>\n",
       "      <td>izmir-bayrakli</td>\n",
       "      <td>0</td>\n",
       "    </tr>\n",
       "    <tr>\n",
       "      <th>3</th>\n",
       "      <td>2024-02-01</td>\n",
       "      <td>izmir-bergama</td>\n",
       "      <td>1</td>\n",
       "    </tr>\n",
       "    <tr>\n",
       "      <th>4</th>\n",
       "      <td>2024-02-01</td>\n",
       "      <td>izmir-bornova</td>\n",
       "      <td>1</td>\n",
       "    </tr>\n",
       "  </tbody>\n",
       "</table>\n",
       "</div>"
      ],
      "text/plain": [
       "         date            ilce  bildirimli_sum\n",
       "0  2024-02-01    izmir-aliaga               0\n",
       "1  2024-02-01  izmir-bayindir               1\n",
       "2  2024-02-01  izmir-bayrakli               0\n",
       "3  2024-02-01   izmir-bergama               1\n",
       "4  2024-02-01   izmir-bornova               1"
      ]
     },
     "execution_count": 188,
     "metadata": {},
     "output_type": "execute_result"
    }
   ],
   "source": [
    "test.columns= ['date','ilce','bildirimli_sum']\n",
    "test.head()\n"
   ]
  },
  {
   "cell_type": "code",
   "execution_count": 189,
   "metadata": {},
   "outputs": [
    {
     "data": {
      "text/html": [
       "<div>\n",
       "<style scoped>\n",
       "    .dataframe tbody tr th:only-of-type {\n",
       "        vertical-align: middle;\n",
       "    }\n",
       "\n",
       "    .dataframe tbody tr th {\n",
       "        vertical-align: top;\n",
       "    }\n",
       "\n",
       "    .dataframe thead th {\n",
       "        text-align: right;\n",
       "    }\n",
       "</style>\n",
       "<table border=\"1\" class=\"dataframe\">\n",
       "  <thead>\n",
       "    <tr style=\"text-align: right;\">\n",
       "      <th></th>\n",
       "      <th>unique_id</th>\n",
       "      <th>bildirimsiz_sum</th>\n",
       "    </tr>\n",
       "  </thead>\n",
       "  <tbody>\n",
       "    <tr>\n",
       "      <th>0</th>\n",
       "      <td>2024-02-01-izmir-aliaga</td>\n",
       "      <td>NaN</td>\n",
       "    </tr>\n",
       "    <tr>\n",
       "      <th>1</th>\n",
       "      <td>2024-02-01-izmir-bayindir</td>\n",
       "      <td>NaN</td>\n",
       "    </tr>\n",
       "    <tr>\n",
       "      <th>2</th>\n",
       "      <td>2024-02-01-izmir-bayrakli</td>\n",
       "      <td>NaN</td>\n",
       "    </tr>\n",
       "    <tr>\n",
       "      <th>3</th>\n",
       "      <td>2024-02-01-izmir-bergama</td>\n",
       "      <td>NaN</td>\n",
       "    </tr>\n",
       "    <tr>\n",
       "      <th>4</th>\n",
       "      <td>2024-02-01-izmir-bornova</td>\n",
       "      <td>NaN</td>\n",
       "    </tr>\n",
       "  </tbody>\n",
       "</table>\n",
       "</div>"
      ],
      "text/plain": [
       "                   unique_id  bildirimsiz_sum\n",
       "0    2024-02-01-izmir-aliaga              NaN\n",
       "1  2024-02-01-izmir-bayindir              NaN\n",
       "2  2024-02-01-izmir-bayrakli              NaN\n",
       "3   2024-02-01-izmir-bergama              NaN\n",
       "4   2024-02-01-izmir-bornova              NaN"
      ]
     },
     "execution_count": 189,
     "metadata": {},
     "output_type": "execute_result"
    }
   ],
   "source": [
    "\n",
    "sample_submission.head()"
   ]
  },
  {
   "cell_type": "code",
   "execution_count": 190,
   "metadata": {},
   "outputs": [
    {
     "name": "stdout",
     "output_type": "stream",
     "text": [
      "<class 'pandas.core.frame.DataFrame'>\n",
      "RangeIndex: 54285 entries, 0 to 54284\n",
      "Data columns (total 19 columns):\n",
      " #   Column                        Non-Null Count  Dtype         \n",
      "---  ------                        --------------  -----         \n",
      " 0   ilce                          54285 non-null  object        \n",
      " 1   date                          54285 non-null  datetime64[ns]\n",
      " 2   t_2m:C_max                    54285 non-null  float64       \n",
      " 3   t_2m:C_min                    54285 non-null  float64       \n",
      " 4   t_2m:C_mean                   54285 non-null  float64       \n",
      " 5   t_2m:C_std                    54285 non-null  float64       \n",
      " 6   prob_precip_1h:p_sum          54285 non-null  float64       \n",
      " 7   prob_precip_1h:p_max          54285 non-null  float64       \n",
      " 8   prob_precip_1h:p_mean         54285 non-null  float64       \n",
      " 9   wind_speed_10m:ms_max         54285 non-null  float64       \n",
      " 10  wind_speed_10m:ms_mean        54285 non-null  float64       \n",
      " 11  wind_speed_10m:ms_std         54285 non-null  float64       \n",
      " 12  wind_dir_10m:d_mean           54285 non-null  float64       \n",
      " 13  global_rad:W_sum              54285 non-null  float64       \n",
      " 14  effective_cloud_cover:p_mean  54285 non-null  float64       \n",
      " 15  effective_cloud_cover:p_std   54285 non-null  float64       \n",
      " 16  relative_humidity_2m:p_max    54285 non-null  float64       \n",
      " 17  relative_humidity_2m:p_min    54285 non-null  float64       \n",
      " 18  relative_humidity_2m:p_mean   54285 non-null  float64       \n",
      "dtypes: datetime64[ns](1), float64(17), object(1)\n",
      "memory usage: 7.9+ MB\n"
     ]
    }
   ],
   "source": [
    "dailyw= model.aggregate_weather_data(daily_weather=weather)\n",
    "dailyw.info()"
   ]
  },
  {
   "cell_type": "code",
   "execution_count": 192,
   "metadata": {},
   "outputs": [
    {
     "ename": "UnboundLocalError",
     "evalue": "cannot access local variable 'lidx' where it is not associated with a value",
     "output_type": "error",
     "traceback": [
      "\u001b[0;31m---------------------------------------------------------------------------\u001b[0m",
      "\u001b[0;31mUnboundLocalError\u001b[0m                         Traceback (most recent call last)",
      "Cell \u001b[0;32mIn[192], line 1\u001b[0m\n\u001b[0;32m----> 1\u001b[0m model\u001b[38;5;241m.\u001b[39mpreprocess_data(train, weather, holidays)\n",
      "Cell \u001b[0;32mIn[181], line 8\u001b[0m, in \u001b[0;36mMLModel.preprocess_data\u001b[0;34m(self, train_df, weather_df, holidays_df)\u001b[0m\n\u001b[1;32m      6\u001b[0m \u001b[38;5;28;01mdef\u001b[39;00m \u001b[38;5;21mpreprocess_data\u001b[39m(\u001b[38;5;28mself\u001b[39m, train_df, weather_df, holidays_df\u001b[38;5;241m=\u001b[39m\u001b[38;5;28;01mNone\u001b[39;00m):\n\u001b[1;32m      7\u001b[0m \u001b[38;5;66;03m#######burasi cok sikinti cok######\u001b[39;00m\n\u001b[0;32m----> 8\u001b[0m     train_df \u001b[38;5;241m=\u001b[39m pd\u001b[38;5;241m.\u001b[39mmerge(train_df,weather_df,[\u001b[38;5;124m'\u001b[39m\u001b[38;5;124mdate\u001b[39m\u001b[38;5;124m'\u001b[39m,\u001b[38;5;124m'\u001b[39m\u001b[38;5;124milce\u001b[39m\u001b[38;5;124m'\u001b[39m])\n\u001b[1;32m     10\u001b[0m     \u001b[38;5;66;03m# Fill missing values in the resulting DataFrame using the ffill method\u001b[39;00m\n\u001b[1;32m     12\u001b[0m     \u001b[38;5;28;01mreturn\u001b[39;00m train_df\n",
      "File \u001b[0;32m~/anaconda3/envs/my-conda-env/lib/python3.12/site-packages/pandas/core/reshape/merge.py:184\u001b[0m, in \u001b[0;36mmerge\u001b[0;34m(left, right, how, on, left_on, right_on, left_index, right_index, sort, suffixes, copy, indicator, validate)\u001b[0m\n\u001b[1;32m    169\u001b[0m \u001b[38;5;28;01melse\u001b[39;00m:\n\u001b[1;32m    170\u001b[0m     op \u001b[38;5;241m=\u001b[39m _MergeOperation(\n\u001b[1;32m    171\u001b[0m         left_df,\n\u001b[1;32m    172\u001b[0m         right_df,\n\u001b[0;32m   (...)\u001b[0m\n\u001b[1;32m    182\u001b[0m         validate\u001b[38;5;241m=\u001b[39mvalidate,\n\u001b[1;32m    183\u001b[0m     )\n\u001b[0;32m--> 184\u001b[0m     \u001b[38;5;28;01mreturn\u001b[39;00m op\u001b[38;5;241m.\u001b[39mget_result(copy\u001b[38;5;241m=\u001b[39mcopy)\n",
      "File \u001b[0;32m~/anaconda3/envs/my-conda-env/lib/python3.12/site-packages/pandas/core/reshape/merge.py:886\u001b[0m, in \u001b[0;36m_MergeOperation.get_result\u001b[0;34m(self, copy)\u001b[0m\n\u001b[1;32m    883\u001b[0m \u001b[38;5;28;01mif\u001b[39;00m \u001b[38;5;28mself\u001b[39m\u001b[38;5;241m.\u001b[39mindicator:\n\u001b[1;32m    884\u001b[0m     \u001b[38;5;28mself\u001b[39m\u001b[38;5;241m.\u001b[39mleft, \u001b[38;5;28mself\u001b[39m\u001b[38;5;241m.\u001b[39mright \u001b[38;5;241m=\u001b[39m \u001b[38;5;28mself\u001b[39m\u001b[38;5;241m.\u001b[39m_indicator_pre_merge(\u001b[38;5;28mself\u001b[39m\u001b[38;5;241m.\u001b[39mleft, \u001b[38;5;28mself\u001b[39m\u001b[38;5;241m.\u001b[39mright)\n\u001b[0;32m--> 886\u001b[0m join_index, left_indexer, right_indexer \u001b[38;5;241m=\u001b[39m \u001b[38;5;28mself\u001b[39m\u001b[38;5;241m.\u001b[39m_get_join_info()\n\u001b[1;32m    888\u001b[0m result \u001b[38;5;241m=\u001b[39m \u001b[38;5;28mself\u001b[39m\u001b[38;5;241m.\u001b[39m_reindex_and_concat(\n\u001b[1;32m    889\u001b[0m     join_index, left_indexer, right_indexer, copy\u001b[38;5;241m=\u001b[39mcopy\n\u001b[1;32m    890\u001b[0m )\n\u001b[1;32m    891\u001b[0m result \u001b[38;5;241m=\u001b[39m result\u001b[38;5;241m.\u001b[39m__finalize__(\u001b[38;5;28mself\u001b[39m, method\u001b[38;5;241m=\u001b[39m\u001b[38;5;28mself\u001b[39m\u001b[38;5;241m.\u001b[39m_merge_type)\n",
      "File \u001b[0;32m~/anaconda3/envs/my-conda-env/lib/python3.12/site-packages/pandas/core/reshape/merge.py:1151\u001b[0m, in \u001b[0;36m_MergeOperation._get_join_info\u001b[0;34m(self)\u001b[0m\n\u001b[1;32m   1147\u001b[0m     join_index, right_indexer, left_indexer \u001b[38;5;241m=\u001b[39m _left_join_on_index(\n\u001b[1;32m   1148\u001b[0m         right_ax, left_ax, \u001b[38;5;28mself\u001b[39m\u001b[38;5;241m.\u001b[39mright_join_keys, sort\u001b[38;5;241m=\u001b[39m\u001b[38;5;28mself\u001b[39m\u001b[38;5;241m.\u001b[39msort\n\u001b[1;32m   1149\u001b[0m     )\n\u001b[1;32m   1150\u001b[0m \u001b[38;5;28;01melse\u001b[39;00m:\n\u001b[0;32m-> 1151\u001b[0m     (left_indexer, right_indexer) \u001b[38;5;241m=\u001b[39m \u001b[38;5;28mself\u001b[39m\u001b[38;5;241m.\u001b[39m_get_join_indexers()\n\u001b[1;32m   1153\u001b[0m     \u001b[38;5;28;01mif\u001b[39;00m \u001b[38;5;28mself\u001b[39m\u001b[38;5;241m.\u001b[39mright_index:\n\u001b[1;32m   1154\u001b[0m         \u001b[38;5;28;01mif\u001b[39;00m \u001b[38;5;28mlen\u001b[39m(\u001b[38;5;28mself\u001b[39m\u001b[38;5;241m.\u001b[39mleft) \u001b[38;5;241m>\u001b[39m \u001b[38;5;241m0\u001b[39m:\n",
      "File \u001b[0;32m~/anaconda3/envs/my-conda-env/lib/python3.12/site-packages/pandas/core/reshape/merge.py:1125\u001b[0m, in \u001b[0;36m_MergeOperation._get_join_indexers\u001b[0;34m(self)\u001b[0m\n\u001b[1;32m   1123\u001b[0m \u001b[38;5;66;03m# make mypy happy\u001b[39;00m\n\u001b[1;32m   1124\u001b[0m \u001b[38;5;28;01massert\u001b[39;00m \u001b[38;5;28mself\u001b[39m\u001b[38;5;241m.\u001b[39mhow \u001b[38;5;241m!=\u001b[39m \u001b[38;5;124m\"\u001b[39m\u001b[38;5;124masof\u001b[39m\u001b[38;5;124m\"\u001b[39m\n\u001b[0;32m-> 1125\u001b[0m \u001b[38;5;28;01mreturn\u001b[39;00m get_join_indexers(\n\u001b[1;32m   1126\u001b[0m     \u001b[38;5;28mself\u001b[39m\u001b[38;5;241m.\u001b[39mleft_join_keys, \u001b[38;5;28mself\u001b[39m\u001b[38;5;241m.\u001b[39mright_join_keys, sort\u001b[38;5;241m=\u001b[39m\u001b[38;5;28mself\u001b[39m\u001b[38;5;241m.\u001b[39msort, how\u001b[38;5;241m=\u001b[39m\u001b[38;5;28mself\u001b[39m\u001b[38;5;241m.\u001b[39mhow\n\u001b[1;32m   1127\u001b[0m )\n",
      "File \u001b[0;32m~/anaconda3/envs/my-conda-env/lib/python3.12/site-packages/pandas/core/reshape/merge.py:1759\u001b[0m, in \u001b[0;36mget_join_indexers\u001b[0;34m(left_keys, right_keys, sort, how)\u001b[0m\n\u001b[1;32m   1757\u001b[0m     _, lidx, ridx \u001b[38;5;241m=\u001b[39m left\u001b[38;5;241m.\u001b[39mjoin(right, how\u001b[38;5;241m=\u001b[39mhow, return_indexers\u001b[38;5;241m=\u001b[39m\u001b[38;5;28;01mTrue\u001b[39;00m, sort\u001b[38;5;241m=\u001b[39msort)\n\u001b[1;32m   1758\u001b[0m \u001b[38;5;28;01melse\u001b[39;00m:\n\u001b[0;32m-> 1759\u001b[0m     lidx, ridx \u001b[38;5;241m=\u001b[39m get_join_indexers_non_unique(\n\u001b[1;32m   1760\u001b[0m         left\u001b[38;5;241m.\u001b[39m_values, right\u001b[38;5;241m.\u001b[39m_values, sort, how\n\u001b[1;32m   1761\u001b[0m     )\n\u001b[1;32m   1763\u001b[0m \u001b[38;5;28;01mif\u001b[39;00m lidx \u001b[38;5;129;01mis\u001b[39;00m \u001b[38;5;129;01mnot\u001b[39;00m \u001b[38;5;28;01mNone\u001b[39;00m \u001b[38;5;129;01mand\u001b[39;00m is_range_indexer(lidx, \u001b[38;5;28mlen\u001b[39m(left)):\n\u001b[1;32m   1764\u001b[0m     lidx \u001b[38;5;241m=\u001b[39m \u001b[38;5;28;01mNone\u001b[39;00m\n",
      "File \u001b[0;32m~/anaconda3/envs/my-conda-env/lib/python3.12/site-packages/pandas/core/reshape/merge.py:1802\u001b[0m, in \u001b[0;36mget_join_indexers_non_unique\u001b[0;34m(left, right, sort, how)\u001b[0m\n\u001b[1;32m   1800\u001b[0m \u001b[38;5;28;01melif\u001b[39;00m how \u001b[38;5;241m==\u001b[39m \u001b[38;5;124m\"\u001b[39m\u001b[38;5;124mouter\u001b[39m\u001b[38;5;124m\"\u001b[39m:\n\u001b[1;32m   1801\u001b[0m     lidx, ridx \u001b[38;5;241m=\u001b[39m libjoin\u001b[38;5;241m.\u001b[39mfull_outer_join(lkey, rkey, count)\n\u001b[0;32m-> 1802\u001b[0m \u001b[38;5;28;01mreturn\u001b[39;00m lidx, ridx\n",
      "\u001b[0;31mUnboundLocalError\u001b[0m: cannot access local variable 'lidx' where it is not associated with a value"
     ]
    }
   ],
   "source": [
    "\n",
    "model.preprocess_data(train, weather, holidays)"
   ]
  },
  {
   "cell_type": "code",
   "execution_count": null,
   "metadata": {},
   "outputs": [],
   "source": [
    "\n",
    "# Evaluate the model\n",
    "model.evaluate_model(model.X_val_scaled, model.y_val)\n",
    "\n"
   ]
  },
  {
   "cell_type": "code",
   "execution_count": null,
   "metadata": {},
   "outputs": [],
   "source": [
    "# Make predictions on the test data\n",
    "test_predictions = model.model.predict(test.drop(['bildirimli_sum'], axis=1))\n",
    "\n"
   ]
  },
  {
   "cell_type": "code",
   "execution_count": null,
   "metadata": {},
   "outputs": [],
   "source": [
    "# Make predictions on the sample submission data\n",
    "sample_submission_predictions = model.model.predict(sample_submission.drop(['bildirimsiz_sum'], axis=1))\n",
    "\n"
   ]
  },
  {
   "cell_type": "code",
   "execution_count": null,
   "metadata": {},
   "outputs": [],
   "source": [
    "# Save the predictions to CSV files\n",
    "pd.DataFrame({'bildirimli_sum': test_predictions}).to_csv('test_predictions.csv', index=False)\n",
    "pd.DataFrame({'bildirimsiz_sum': sample_submission_predictions}).to_csv('sample_submission_predictions.csv', index=False)"
   ]
  },
  {
   "cell_type": "code",
   "execution_count": null,
   "metadata": {
    "metadata": {}
   },
   "outputs": [],
   "source": [
    " Create an instance of the MLModel class\n",
    "model = MLModel(model_type='catboost')\n",
    "\n",
    "# Process and train the model\n",
    "model.process_data_and_train(train, weather, holidays, test, sample_submission)\n",
    "\n",
    "# Evaluate the model\n",
    "model.evaluate_model(model.X_val_scaled, model.y_val)\n",
    "\n",
    "# Make predictions on the test data\n",
    "test_predictions = model.model.predict(test.drop(['bildirimli_sum'], axis=1))\n",
    "\n",
    "# Make predictions on the sample submission data\n",
    "sample_submission_predictions = model.model.predict(sample_submission.drop(['bildirimsiz_sum'], axis=1))\n",
    "\n",
    "# Save the predictions to a CSV file (optional)\n",
    "pd.DataFrame({'bildirimli_sum': test_predictions}).to_csv('test_predictions.csv', index=False)\n",
    "pd.DataFrame({'bildirimsiz_sum': sample_submission_predictions}).to_csv('sample_submission_predictions.csv', index=False)"
   ]
  },
  {
   "cell_type": "code",
   "execution_count": null,
   "metadata": {},
   "outputs": [],
   "source": []
  },
  {
   "cell_type": "code",
   "execution_count": null,
   "metadata": {},
   "outputs": [],
   "source": []
  }
 ],
 "metadata": {
  "kernelspec": {
   "display_name": "my-conda-env",
   "language": "python",
   "name": "python3"
  },
  "language_info": {
   "codemirror_mode": {
    "name": "ipython",
    "version": 3
   },
   "file_extension": ".py",
   "mimetype": "text/x-python",
   "name": "python",
   "nbconvert_exporter": "python",
   "pygments_lexer": "ipython3",
   "version": "3.12.3"
  }
 },
 "nbformat": 4,
 "nbformat_minor": 2
}
