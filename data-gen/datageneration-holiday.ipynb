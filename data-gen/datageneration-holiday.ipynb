{
 "cells": [
  {
   "cell_type": "code",
   "execution_count": 30,
   "metadata": {},
   "outputs": [],
   "source": [
    "import pandas as pd"
   ]
  },
  {
   "cell_type": "code",
   "execution_count": 31,
   "metadata": {},
   "outputs": [],
   "source": [
    "holidays = pd.read_csv('holidays.csv')\n",
    "holidays.columns =['year', 'month' ,'day' , 'holiday']\n",
    "add_columns = holidays['holiday']\n",
    "# Create a new column for each unique holiday name\n",
    "\n",
    "holidays['date'] = pd.to_datetime(holidays[['year', 'month', 'day']])\n",
    "for new in holidays['holiday'].unique():\n",
    "    holidays[new] = (holidays['holiday'] == new).astype(int)\n"
   ]
  },
  {
   "cell_type": "code",
   "execution_count": 36,
   "metadata": {},
   "outputs": [],
   "source": [
    "holidays.to_csv('holidays_as_01.csv')"
   ]
  },
  {
   "cell_type": "code",
   "execution_count": null,
   "metadata": {},
   "outputs": [],
   "source": []
  }
 ],
 "metadata": {
  "kernelspec": {
   "display_name": "my-conda-env",
   "language": "python",
   "name": "python3"
  },
  "language_info": {
   "codemirror_mode": {
    "name": "ipython",
    "version": 3
   },
   "file_extension": ".py",
   "mimetype": "text/x-python",
   "name": "python",
   "nbconvert_exporter": "python",
   "pygments_lexer": "ipython3",
   "version": "3.12.3"
  }
 },
 "nbformat": 4,
 "nbformat_minor": 2
}
